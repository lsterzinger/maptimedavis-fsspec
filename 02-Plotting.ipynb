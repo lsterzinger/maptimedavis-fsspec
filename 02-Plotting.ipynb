{
 "cells": [
  {
   "cell_type": "markdown",
   "id": "39bc25ac-ec4e-4974-acd5-8b12a4eac4bb",
   "metadata": {},
   "source": [
    "# Open dataset and do some plotting!\n",
    "\n",
    "This notebook will walk through opening the generated `combined.json` with xarray and using xarray + metpy + hvplot to create interactive plots.\n",
    "\n",
    "First, import the needed libraries:\n",
    "* Metpy - used for generating projection info from GOES data\n",
    "* Cartopy - used for projecting/transforming coordinate systems\n",
    "* fsspec - open remote files"
   ]
  },
  {
   "cell_type": "code",
   "execution_count": null,
   "id": "337bf74e-3b6d-4ac5-9615-06f66b703578",
   "metadata": {},
   "outputs": [],
   "source": [
    "import metpy\n",
    "import hvplot.xarray\n",
    "import matplotlib.pyplot as plt\n",
    "import fsspec\n",
    "import xarray as xr\n",
    "import cartopy.crs as ccrs\n",
    "import cartopy.feature as cfeature"
   ]
  },
  {
   "cell_type": "markdown",
   "id": "770f98e5",
   "metadata": {},
   "source": [
    "### Create a filesystem with fsspec, give it info on json and remote files"
   ]
  },
  {
   "cell_type": "code",
   "execution_count": null,
   "id": "df80d2cd-3307-4b8e-a459-65dc57623036",
   "metadata": {},
   "outputs": [],
   "source": [
    "# fs = fsspec.filesystem('reference', fo=\"./example_jsons/combined.json\", remote_protocol='s3', remote_options=dict(anon=True), skip_instance_cache=True)\n",
    "fs = fsspec.filesystem('reference', fo=\"./combined.json\", remote_protocol='s3', remote_options=dict(anon=True), skip_instance_cache=True)"
   ]
  },
  {
   "cell_type": "markdown",
   "id": "dc640b6b-8559-4028-a100-acf412f98b31",
   "metadata": {},
   "source": [
    "### Filesystem mapper can be opened directly with xarray's zarr engine.\n",
    "\n",
    "Also add `metpy.parse_cf()` to generate needed projection information (will be used later) and change `t` variable's name from \"J2000 epoch mid-point between the start and end image scan in seconds\" to \"Time\""
   ]
  },
  {
   "cell_type": "code",
   "execution_count": null,
   "id": "39196fde-360e-4978-8be2-ffde5779ef91",
   "metadata": {},
   "outputs": [],
   "source": [
    "ds = xr.open_dataset(fs.get_mapper(\"\"), engine='zarr').metpy.parse_cf()\n",
    "ds['t'].attrs['long_name'] = 'Time'\n",
    "ds"
   ]
  },
  {
   "cell_type": "markdown",
   "id": "fb068a43-7baf-4ebd-82dc-1ce1e542f29e",
   "metadata": {},
   "source": [
    "### Plot with hvplot\n",
    "Plotting is quick and easy with hvplot. Just provide `x`, `y`. \n",
    "\n",
    "`crs=` is the coordinate reference system that the data is in (GOES projection's 'x' and 'y' in this case) so that hvplot/cartopy know how to interpret your input\n",
    "\n",
    "`projection=` is the output projection (can be different than input, cartopy will do the transformation). In this case we just want to plot on the GOES projection."
   ]
  },
  {
   "cell_type": "code",
   "execution_count": null,
   "id": "b1343c04",
   "metadata": {},
   "outputs": [],
   "source": [
    "sst = ds.SST\n",
    "crs = sst.metpy.cartopy_crs\n",
    "\n",
    "sst.hvplot.quadmesh(\n",
    "    'x', 'y', cmap='jet',\n",
    "    groupby='t', crs = crs,\n",
    "    projection=crs, project=True,\n",
    "    coastline=True, rasterize=True, features=['borders'],\n",
    "    clim=(220, 320), width=500\n",
    ")"
   ]
  },
  {
   "cell_type": "markdown",
   "id": "cbcd1ccd-627b-4399-bffd-a4a2719f527c",
   "metadata": {},
   "source": [
    "### Plot with matplotlib\n",
    "Matplotlib/pyplot is a much more widely-supported plotting package. However, it takes longer to plot the entire dataset than hvplot does, so we'll take a subset first."
   ]
  },
  {
   "cell_type": "code",
   "execution_count": null,
   "id": "977f774e-530f-42c1-8782-1bca13f03603",
   "metadata": {},
   "outputs": [],
   "source": [
    "import matplotlib.pyplot as plt"
   ]
  },
  {
   "cell_type": "markdown",
   "id": "fbd77168-176e-46c6-a2b0-ae55cf0b25b2",
   "metadata": {},
   "source": [
    "Using metpy again, this function takes the GOES x/y projection info and turns it into lat/lon"
   ]
  },
  {
   "cell_type": "code",
   "execution_count": null,
   "id": "a4833e67",
   "metadata": {},
   "outputs": [],
   "source": [
    "ds = ds.metpy.assign_latitude_longitude()\n",
    "ds"
   ]
  },
  {
   "cell_type": "markdown",
   "id": "a1a997e7-4e93-4fc8-b160-4525f089c2ea",
   "metadata": {},
   "source": [
    "This function finds the x/y range for a given lat/lon range"
   ]
  },
  {
   "cell_type": "code",
   "execution_count": null,
   "id": "6b6a3499",
   "metadata": {},
   "outputs": [],
   "source": [
    "def get_xy_from_latlon(ds, lats, lons):\n",
    "    import numpy as np\n",
    "    lat1, lat2 = lats\n",
    "    lon1, lon2 = lons\n",
    "\n",
    "    lat = ds.latitude.data\n",
    "    lon = ds.longitude.data\n",
    "    \n",
    "    x = ds.x.data\n",
    "    y = ds.y.data\n",
    "    \n",
    "    x,y = np.meshgrid(x,y)\n",
    "    \n",
    "    x = x[(lat >= lat1) & (lat <= lat2) & (lon >= lon1) & (lon <= lon2)]\n",
    "    y = y[(lat >= lat1) & (lat <= lat2) & (lon >= lon1) & (lon <= lon2)] \n",
    "    \n",
    "    return min(x), max(x), min(y), max(y)"
   ]
  },
  {
   "cell_type": "markdown",
   "id": "50622299-ac1d-4fab-a32d-915cf1446d8d",
   "metadata": {},
   "source": [
    "Let's take a subset from from 20N to 60N and -100E to -50E"
   ]
  },
  {
   "cell_type": "code",
   "execution_count": null,
   "id": "0cb46590",
   "metadata": {},
   "outputs": [],
   "source": [
    "lat1, lat2 = 20, 60\n",
    "lon1, lon2 = -100, -50\n",
    "\n",
    "x1, x2, y1, y2 = get_xy_from_latlon(ds, (lat1, lat2), (lon1, lon2))\n",
    "print(x1, x2, y1, y2)"
   ]
  },
  {
   "cell_type": "code",
   "execution_count": null,
   "id": "4f38bfb6",
   "metadata": {},
   "outputs": [],
   "source": [
    "ds_subset = ds.sel(x=slice(x1, x2), y=slice(y2, y1))"
   ]
  },
  {
   "cell_type": "markdown",
   "id": "6993d021-9f4d-4668-a3d1-10c4faf41711",
   "metadata": {},
   "source": [
    "Similar to hvplot, `transform=` are the coordinates that the data is currently in, and `projection=` is the coordinate system we want to plot with.\n",
    "\n",
    "In this case, we'll plot on an Orthographic projection centered at 30N -75E"
   ]
  },
  {
   "cell_type": "code",
   "execution_count": null,
   "id": "d5c7bc70",
   "metadata": {},
   "outputs": [],
   "source": [
    "projection = ccrs.Orthographic(-75, 30)\n",
    "transform = ds_subset.SST.metpy.cartopy_crs\n",
    "\n",
    "fig = plt.figure(figsize=(10,10))\n",
    "ax = plt.subplot(projection=projection)\n",
    "\n",
    "p = ax.pcolormesh(\n",
    "    ds_subset.x, ds_subset.y, ds_subset.SST.isel(t=0),\n",
    "    transform=transform, cmap='jet',\n",
    "    vmin=220, vmax=320\n",
    ")\n",
    "\n",
    "plt.colorbar(p, label='SST [K]'100W100W)\n",
    "\n",
    "ax.add_feature(cfeature.COASTLINE)\n",
    "ax.add_feature(cfeature.BORDERS)\n",
    "ax.add_feature(cfeature.STATES)\n",
    "ax.set_extent([x1, x2, y2, y1], crs=transform)"
   ]
  },
  {
   "cell_type": "code",
   "execution_count": null,
   "id": "7382f044",
   "metadata": {},
   "outputs": [],
   "source": []
  }
 ],
 "metadata": {
  "interpreter": {
   "hash": "09e290f4815ef39aff6dbca11dde8c0bbdf7f645370c8d0b6e37bbf9b5b58096"
  },
  "kernelspec": {
   "display_name": "Python 3 (ipykernel)",
   "language": "python",
   "name": "python3"
  },
  "language_info": {
   "codemirror_mode": {
    "name": "ipython",
    "version": 3
   },
   "file_extension": ".py",
   "mimetype": "text/x-python",
   "name": "python",
   "nbconvert_exporter": "python",
   "pygments_lexer": "ipython3",
   "version": "3.8.12"
  }
 },
 "nbformat": 4,
 "nbformat_minor": 5
}
