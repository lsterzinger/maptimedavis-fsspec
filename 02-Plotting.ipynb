{
 "cells": [
  {
   "cell_type": "code",
   "execution_count": null,
   "id": "465db456-f2e0-4af7-a7bb-3c77d873cfbc",
   "metadata": {},
   "outputs": [],
   "source": [
    "import metpy\n",
    "import cartopy.crs as ccrs\n",
    "import hvplot.xarray\n",
    "import matplotlib.pyplot as plt"
   ]
  },
  {
   "cell_type": "markdown",
   "id": "6255f3c2-924b-455e-9bdd-a63836df847b",
   "metadata": {},
   "source": [
    "Use metpy's `parse_cf()` to generate projection information for future plotting"
   ]
  },
  {
   "cell_type": "code",
   "execution_count": null,
   "id": "f70d6ece-b577-4c45-9c44-39895391b97a",
   "metadata": {},
   "outputs": [],
   "source": [
    "# fs2 = fsspec.filesystem('reference', fo=\"./example_jsons/combined.json\", remote_protocol='s3', remote_options=dict(anon=True), skip_instance_cache=True)\n",
    "fs2 = fsspec.filesystem('reference', fo=\"./combined.json\", remote_protocol='s3', remote_options=dict(anon=True), skip_instance_cache=True)\n",
    "ds = xr.open_dataset(fs2.get_mapper(\"\"), engine='zarr').metpy.parse_cf()\n",
    "ds"
   ]
  },
  {
   "cell_type": "markdown",
   "id": "19e20709-7d94-4a08-a82b-7e340bb95f73",
   "metadata": {},
   "source": [
    "Use metpy to calculate lat/lon based on the GOES projection grid, and rename time dimension (for better plotting with hvplot)"
   ]
  },
  {
   "cell_type": "code",
   "execution_count": null,
   "id": "b4db0d96-54d0-4220-a173-e124e9f64d29",
   "metadata": {},
   "outputs": [],
   "source": [
    "ds = ds.metpy.assign_latitude_longitude()\n",
    "ds['t'].attrs['long_name'] = 'Time'"
   ]
  },
  {
   "cell_type": "code",
   "execution_count": null,
   "id": "ef158c21-0db3-4096-a800-19574d5bd97c",
   "metadata": {},
   "outputs": [],
   "source": [
    "import cartopy.crs as ccrs\n",
    "import cartopy.feature as cfeature"
   ]
  },
  {
   "cell_type": "code",
   "execution_count": null,
   "id": "948a2eba-0aa4-4c9c-902c-bf6a8a50805a",
   "metadata": {},
   "outputs": [],
   "source": [
    "%%time\n",
    "mask_lat = (ds.latitude > 20) & (ds.latitude < 60)\n",
    "mask_lon = (ds.longitude > -100) & (ds.longitude < -50)\n",
    "\n",
    "\n",
    "sst = ds.SST.where(mask_lat & mask_lon, drop=True)"
   ]
  },
  {
   "cell_type": "code",
   "execution_count": null,
   "id": "59e1918b-10fb-4c57-a0fb-4358f8cc8b0e",
   "metadata": {},
   "outputs": [],
   "source": [
    "sst.hvplot.quadmesh(\n",
    "    'x', 'y', groupby='t',\n",
    "    crs = sst.metpy.cartopy_crs, projection=ccrs.Orthographic(-75,30),\n",
    "    features = ['land', 'borders'], width=500,\n",
    "    project=True, rasterize=True, coastline=True, cmap='jet'\n",
    ")"
   ]
  },
  {
   "cell_type": "code",
   "execution_count": null,
   "id": "f57a5ab4-d9fc-441d-8877-d80b402a3329",
   "metadata": {},
   "outputs": [],
   "source": [
    "sst.mean(dim='t').hvplot.quadmesh(\n",
    "    'x', 'y',\n",
    "    crs = sst.metpy.cartopy_crs, projection=ccrs.Orthographic(-75,30),\n",
    "    features = ['land', 'borders'], width=500,\n",
    "    project=True, rasterize=True, coastline=True, cmap='jet'\n",
    ")"
   ]
  }
 ],
 "metadata": {
  "kernelspec": {
   "display_name": "Python 3 (ipykernel)",
   "language": "python",
   "name": "python3"
  },
  "language_info": {
   "codemirror_mode": {
    "name": "ipython",
    "version": 3
   },
   "file_extension": ".py",
   "mimetype": "text/x-python",
   "name": "python",
   "nbconvert_exporter": "python",
   "pygments_lexer": "ipython3",
   "version": "3.8.12"
  }
 },
 "nbformat": 4,
 "nbformat_minor": 5
}
